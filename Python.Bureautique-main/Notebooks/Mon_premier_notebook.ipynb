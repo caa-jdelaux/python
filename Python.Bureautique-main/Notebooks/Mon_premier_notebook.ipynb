{
 "cells": [
  {
   "cell_type": "code",
   "execution_count": 1,
   "id": "ee4d243f",
   "metadata": {},
   "outputs": [
    {
     "name": "stdout",
     "output_type": "stream",
     "text": [
      "Bonjour, Jupyter!\n"
     ]
    }
   ],
   "source": [
    "# Exemple de cellule de code\n",
    "print(\"Bonjour, Jupyter!\")"
   ]
  },
  {
   "cell_type": "markdown",
   "id": "fbf774c1",
   "metadata": {},
   "source": [
    "## Titre de section\n",
    "\n",
    "Ceci est un paragraphe *en italique*.\n"
   ]
  },
  {
   "cell_type": "code",
   "execution_count": null,
   "id": "d02cf9b2",
   "metadata": {},
   "outputs": [],
   "source": []
  }
 ],
 "metadata": {
  "kernelspec": {
   "display_name": "Python 3 (ipykernel)",
   "language": "python",
   "name": "python3"
  },
  "language_info": {
   "codemirror_mode": {
    "name": "ipython",
    "version": 3
   },
   "file_extension": ".py",
   "mimetype": "text/x-python",
   "name": "python",
   "nbconvert_exporter": "python",
   "pygments_lexer": "ipython3",
   "version": "3.11.5"
  }
 },
 "nbformat": 4,
 "nbformat_minor": 5
}
