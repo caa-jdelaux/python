{
 "cells": [
  {
   "cell_type": "code",
   "execution_count": 1,
   "id": "a561808b",
   "metadata": {},
   "outputs": [
    {
     "name": "stdout",
     "output_type": "stream",
     "text": [
      "4\n",
      "2*sqrt(15)\n"
     ]
    }
   ],
   "source": [
    "import sympy\n",
    "\n",
    "#retourne la valeur exact\n",
    "print(sympy.sqrt(16))\n",
    "print(sympy.sqrt(60))"
   ]
  },
  {
   "cell_type": "code",
   "execution_count": 2,
   "id": "06723630",
   "metadata": {},
   "outputs": [
    {
     "name": "stdout",
     "output_type": "stream",
     "text": [
      "expression: 2*x + y\n",
      "expression - y: 2*x\n",
      "expression - x: x + y\n"
     ]
    }
   ],
   "source": [
    "from sympy import symbols\n",
    "\n",
    "x = symbols('x')\n",
    "y = symbols('y')\n",
    "\n",
    "expression = 2*x+y\n",
    "\n",
    "#retourne la valeur de l'expression\n",
    "print(\"expression:\", expression)\n",
    "print(\"expression - y:\", expression - y)\n",
    "print(\"expression - x:\", expression - x)"
   ]
  },
  {
   "cell_type": "code",
   "execution_count": 3,
   "id": "7a989fda",
   "metadata": {},
   "outputs": [
    {
     "name": "stdout",
     "output_type": "stream",
     "text": [
      "factor(2 * (x + y)): 2*(x + y)\n",
      "factor(x**2 + x*y)): x*(x + y)\n",
      "expand(x * (x + y)): x**2 + x*y\n"
     ]
    }
   ],
   "source": [
    "from sympy import factor, expand\n",
    "\n",
    "print(\"factor(2 * (x + y)):\", factor(2 * (x + y)))\n",
    "print(\"factor(x**2 + x*y)):\", factor(x**2 + x*y))\n",
    "print(\"expand(x * (x + y)):\", expand(x * (x + y)))"
   ]
  },
  {
   "cell_type": "code",
   "execution_count": 4,
   "id": "f21e0c0f",
   "metadata": {},
   "outputs": [
    {
     "name": "stdout",
     "output_type": "stream",
     "text": [
      "dérivée de formule1: 2*x\n",
      "dérivée de formule2: 4*x**3 + 6*x**2 + 2*x + 5\n",
      "dérivée x de formule3: 2*x\n",
      "dérivée de formule4: exp(x)\n",
      "dérivée de formule5: -sin(x) + cos(x)\n",
      "dérivée x de formule6: x**y*y/x\n"
     ]
    }
   ],
   "source": [
    "#calculs de dérivées\n",
    "from sympy import diff\n",
    "\n",
    "formule1 = x**2\n",
    "formule2 = x**4 + 2*x**3+x**2+5*x+16\n",
    "formule3 = x**2 + y**2\n",
    "formule4 = sympy.exp(x)\n",
    "formule5 = sympy.sin(x) + sympy.cos(x)\n",
    "formule6 = x**y\n",
    "\n",
    "print(\"dérivée de formule1:\", diff(formule1))\n",
    "print(\"dérivée de formule2:\", diff(formule2))\n",
    "print(\"dérivée x de formule3:\", diff(formule3, x))\n",
    "print(\"dérivée de formule4:\", diff(formule4))\n",
    "print(\"dérivée de formule5:\", diff(formule5))\n",
    "print(\"dérivée x de formule6:\", diff(formule6, x))"
   ]
  },
  {
   "cell_type": "code",
   "execution_count": 5,
   "id": "40580c81",
   "metadata": {},
   "outputs": [
    {
     "name": "stdout",
     "output_type": "stream",
     "text": [
      "integrale de formule1: x**3/3\n",
      "integrale de formule2: x*log(x) - x\n",
      "integrale x de formule3: x**2*y/2\n",
      "integrale de formule4: 2**x/log(2)\n",
      "integrale de 0 à 10 de la formule1: 1000/3\n",
      "integrale de -inf à +inf de la formule5: AccumBounds(-2, 2)\n",
      "integrale de -inf à +inf de la formule6: sqrt(2)*sqrt(pi)/2\n",
      "integrale de 1 à +inf de la formule7: 1\n"
     ]
    }
   ],
   "source": [
    "from sympy import integrate, oo\n",
    "\n",
    "formule1 = x**2\n",
    "formule2 = sympy.log(x)\n",
    "formule3 = x*y\n",
    "formule4 = 2**x\n",
    "formule5 = sympy.sin(x)\n",
    "formule6 = sympy.sin(x**2)\n",
    "formule7 = 1/(x**2)\n",
    "\n",
    "print(\"integrale de formule1:\", integrate(formule1))\n",
    "print(\"integrale de formule2:\", integrate(formule2))\n",
    "print(\"integrale x de formule3:\", integrate(formule3, x))\n",
    "print(\"integrale de formule4:\", integrate(formule4))\n",
    "\n",
    "print(\"integrale de 0 à 10 de la formule1:\", integrate(formule1, (x, 0, 10)))\n",
    "print(\"integrale de -inf à +inf de la formule5:\", integrate(formule5, (x, -oo, oo)))\n",
    "print(\"integrale de -inf à +inf de la formule6:\", integrate(formule6, (x, -oo, oo)))\n",
    "print(\"integrale de 1 à +inf de la formule7:\", integrate(formule7, (x, 1, oo)))"
   ]
  },
  {
   "cell_type": "code",
   "execution_count": 6,
   "id": "1453a116",
   "metadata": {},
   "outputs": [
    {
     "name": "stdout",
     "output_type": "stream",
     "text": [
      "valeur formule1 lorsque x -> 0: oo\n",
      "valeur formule1 lorsque x -> oo: 0\n",
      "valeur formule2 lorsque x -> 0: 1\n"
     ]
    }
   ],
   "source": [
    "#calcul de limites\n",
    "from sympy import limit\n",
    "\n",
    "formule1 = 1/x\n",
    "formule2 = sympy.sin(x)/x\n",
    "\n",
    "print(\"valeur formule1 lorsque x -> 0:\", limit(formule1, x, 0))\n",
    "print(\"valeur formule1 lorsque x -> oo:\", limit(formule1, x, oo))\n",
    "print(\"valeur formule2 lorsque x -> 0:\", limit(formule2, x, 0))"
   ]
  },
  {
   "cell_type": "code",
   "execution_count": 7,
   "id": "a6d43e25",
   "metadata": {},
   "outputs": [
    {
     "name": "stdout",
     "output_type": "stream",
     "text": [
      "résoudre 3*x+5 = 0: [-5/3]\n",
      "résoudre x ** 2 = 5: [-sqrt(5), sqrt(5)]\n",
      "résoudre x ** 2 = y: [-sqrt(y), sqrt(y)]\n",
      "résoudre x ** 2 = -5: [-sqrt(5)*I, sqrt(5)*I]\n"
     ]
    }
   ],
   "source": [
    "#résolution d'équations\n",
    "from sympy import Eq, solve\n",
    "\n",
    "print(\"résoudre 3*x+5 = 0:\", solve(2*x + x + 5))\n",
    "print(\"résoudre x ** 2 = 5:\", solve(Eq(x**2, 5)))\n",
    "print(\"résoudre x ** 2 = y:\", solve(Eq(x**2, y), x))\n",
    "print(\"résoudre x ** 2 = -5:\", solve(Eq(x**2, -5)))"
   ]
  },
  {
   "cell_type": "code",
   "execution_count": 8,
   "id": "6b7ad26e",
   "metadata": {},
   "outputs": [
    {
     "name": "stdout",
     "output_type": "stream",
     "text": [
      "Eq(z(t), C2*exp(-t) + (C1 + t/2)*exp(t))\n"
     ]
    }
   ],
   "source": [
    "#résolution d'équations différentielles\n",
    "from sympy import Function, dsolve\n",
    "\n",
    "t = symbols(\"t\")\n",
    "z = Function(\"z\")\n",
    "\n",
    "print(dsolve(Eq(z(t).diff(t, t) - z(t), sympy.exp(t))))"
   ]
  },
  {
   "cell_type": "code",
   "execution_count": 9,
   "id": "d1922a4b",
   "metadata": {},
   "outputs": [
    {
     "name": "stdout",
     "output_type": "stream",
     "text": [
      "Transposé de la matrice1: Matrix([[1, 3], [2, 4]])\n",
      "inverse de la matrice1: Matrix([[-2, 1], [3/2, -1/2]])\n",
      "matrice1 * matrice2: Matrix([[5, 5], [11, 11]])\n"
     ]
    }
   ],
   "source": [
    "from sympy.matrices import Matrix\n",
    "\n",
    "matrice1 = Matrix([[1,2],[3,4]])\n",
    "matrice2 = Matrix([[1,1],[2,2]])\n",
    "print(\"Transposé de la matrice1:\", matrice1.T)\n",
    "print(\"inverse de la matrice1:\", matrice1.inv())\n",
    "print(\"matrice1 * matrice2:\", matrice1 * matrice2)"
   ]
  },
  {
   "cell_type": "code",
   "execution_count": 10,
   "id": "c4dce156",
   "metadata": {},
   "outputs": [
    {
     "name": "stdout",
     "output_type": "stream",
     "text": [
      "\\frac{x^{2} + 2 x}{2 x^{2} - 3}\n",
      "2 x\n",
      "\\frac{x^{3}}{3}\n"
     ]
    }
   ],
   "source": [
    "#imprimer au format latex\n",
    "from sympy import print_latex\n",
    "\n",
    "formule1 = (x**2+2*x)/(2*x**2-3)\n",
    "formule2 = diff(x**2)\n",
    "formule3 = integrate(x**2)\n",
    "\n",
    "print_latex(formule1)\n",
    "print_latex(formule2)\n",
    "print_latex(formule3)"
   ]
  },
  {
   "cell_type": "code",
   "execution_count": null,
   "id": "d04ccf8e",
   "metadata": {},
   "outputs": [],
   "source": []
  }
 ],
 "metadata": {
  "kernelspec": {
   "display_name": "Python 3 (ipykernel)",
   "language": "python",
   "name": "python3"
  },
  "language_info": {
   "codemirror_mode": {
    "name": "ipython",
    "version": 3
   },
   "file_extension": ".py",
   "mimetype": "text/x-python",
   "name": "python",
   "nbconvert_exporter": "python",
   "pygments_lexer": "ipython3",
   "version": "3.10.9"
  }
 },
 "nbformat": 4,
 "nbformat_minor": 5
}
