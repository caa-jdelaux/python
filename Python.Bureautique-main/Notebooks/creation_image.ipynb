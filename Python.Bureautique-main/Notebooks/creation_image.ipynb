{
 "cells": [
  {
   "cell_type": "code",
   "execution_count": 1,
   "id": "26e074c2",
   "metadata": {},
   "outputs": [],
   "source": [
    "from PIL import Image\n",
    "import numpy as np\n",
    "\n",
    "# Assuming you have a matrix of color data like this:\n",
    "# Replace this with your actual matrix\n",
    "matrix_size = (10, 10)\n",
    "color_matrix = np.random.randint(0, 256, size=(matrix_size[0], matrix_size[1], 3), dtype=np.uint8)\n",
    "\n",
    "# Create an image from the color matrix\n",
    "image = Image.fromarray(color_matrix, 'RGB')\n",
    "\n",
    "# Save the image to a file (optional)\n",
    "image.save('output_image.png')\n",
    "\n",
    "# Display the image (optional)\n",
    "image.show()\n"
   ]
  },
  {
   "cell_type": "code",
   "execution_count": null,
   "id": "92d806a0",
   "metadata": {},
   "outputs": [],
   "source": []
  }
 ],
 "metadata": {
  "kernelspec": {
   "display_name": "Python 3 (ipykernel)",
   "language": "python",
   "name": "python3"
  },
  "language_info": {
   "codemirror_mode": {
    "name": "ipython",
    "version": 3
   },
   "file_extension": ".py",
   "mimetype": "text/x-python",
   "name": "python",
   "nbconvert_exporter": "python",
   "pygments_lexer": "ipython3",
   "version": "3.11.5"
  }
 },
 "nbformat": 4,
 "nbformat_minor": 5
}
