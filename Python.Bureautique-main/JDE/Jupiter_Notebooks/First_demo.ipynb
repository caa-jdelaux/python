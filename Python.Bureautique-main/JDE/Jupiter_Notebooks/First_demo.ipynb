{
 "cells": [
  {
   "cell_type": "markdown",
   "id": "dc48bd7e",
   "metadata": {},
   "source": [
    "### Test de mon 1er Notebook\n",
    "    Commentaire à saisir *italique*"
   ]
  },
  {
   "cell_type": "code",
   "execution_count": 12,
   "id": "1c08d517",
   "metadata": {},
   "outputs": [],
   "source": [
    "import math"
   ]
  },
  {
   "cell_type": "code",
   "execution_count": 14,
   "id": "7a4cd949",
   "metadata": {},
   "outputs": [],
   "source": [
    "ma_variable = 3"
   ]
  },
  {
   "cell_type": "markdown",
   "id": "00f7315a",
   "metadata": {},
   "source": [
    "print(math.pi+1)"
   ]
  },
  {
   "cell_type": "code",
   "execution_count": null,
   "id": "b42c6fb0",
   "metadata": {},
   "outputs": [
    {
     "name": "stdout",
     "output_type": "stream",
     "text": [
      "4.141592653589793\n"
     ]
    }
   ],
   "source": [
    "print(math.pi+1)"
   ]
  }
 ],
 "metadata": {
  "kernelspec": {
   "display_name": "Python 3 (ipykernel)",
   "language": "python",
   "name": "python3"
  },
  "language_info": {
   "codemirror_mode": {
    "name": "ipython",
    "version": 3
   },
   "file_extension": ".py",
   "mimetype": "text/x-python",
   "name": "python",
   "nbconvert_exporter": "python",
   "pygments_lexer": "ipython3",
   "version": "3.11.4"
  }
 },
 "nbformat": 4,
 "nbformat_minor": 5
}
